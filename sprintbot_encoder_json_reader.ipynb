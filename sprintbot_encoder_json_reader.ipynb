{
 "cells": [
  {
   "cell_type": "markdown",
   "metadata": {},
   "source": [
    "# Sprintbot encoder analysis\n",
    "### Data from the first sprintbot tests 12/10/20"
   ]
  },
  {
   "cell_type": "code",
   "execution_count": 1,
   "metadata": {},
   "outputs": [],
   "source": [
    "import numpy as np\n",
    "import cv2 as cv\n",
    "import glob\n",
    "import pickle\n",
    "import pandas as pd\n",
    "import json"
   ]
  },
  {
   "cell_type": "code",
   "execution_count": 54,
   "metadata": {},
   "outputs": [
    {
     "data": {
      "text/html": [
       "<div>\n",
       "<style scoped>\n",
       "    .dataframe tbody tr th:only-of-type {\n",
       "        vertical-align: middle;\n",
       "    }\n",
       "\n",
       "    .dataframe tbody tr th {\n",
       "        vertical-align: top;\n",
       "    }\n",
       "\n",
       "    .dataframe thead th {\n",
       "        text-align: right;\n",
       "    }\n",
       "</style>\n",
       "<table border=\"1\" class=\"dataframe\">\n",
       "  <thead>\n",
       "    <tr style=\"text-align: right;\">\n",
       "      <th></th>\n",
       "      <th>wheel2Revs</th>\n",
       "      <th>temp_oC</th>\n",
       "      <th>wheel1Pos</th>\n",
       "      <th>elapsedTime</th>\n",
       "      <th>pressure_kPa</th>\n",
       "      <th>imu</th>\n",
       "      <th>wheel2Pos</th>\n",
       "      <th>wheel1Revs</th>\n",
       "      <th>humidity_percent</th>\n",
       "    </tr>\n",
       "  </thead>\n",
       "  <tbody>\n",
       "    <tr>\n",
       "      <th>0</th>\n",
       "      <td>-175</td>\n",
       "      <td>16.62738</td>\n",
       "      <td>-832</td>\n",
       "      <td>0.087</td>\n",
       "      <td>100.7898</td>\n",
       "      <td>[-72.94969, 74.52534, 116.5186]</td>\n",
       "      <td>-768</td>\n",
       "      <td>-174</td>\n",
       "      <td>74.09607</td>\n",
       "    </tr>\n",
       "    <tr>\n",
       "      <th>1</th>\n",
       "      <td>-175</td>\n",
       "      <td>16.66338</td>\n",
       "      <td>-832</td>\n",
       "      <td>1.103</td>\n",
       "      <td>100.7466</td>\n",
       "      <td>[-72.12151, 74.7004, 117.1975]</td>\n",
       "      <td>-768</td>\n",
       "      <td>-174</td>\n",
       "      <td>74.14125</td>\n",
       "    </tr>\n",
       "    <tr>\n",
       "      <th>2</th>\n",
       "      <td>-175</td>\n",
       "      <td>16.62738</td>\n",
       "      <td>-832</td>\n",
       "      <td>2.113</td>\n",
       "      <td>100.7754</td>\n",
       "      <td>[-73.54123, 74.19148, 115.7025]</td>\n",
       "      <td>-768</td>\n",
       "      <td>-174</td>\n",
       "      <td>74.02431</td>\n",
       "    </tr>\n",
       "  </tbody>\n",
       "</table>\n",
       "</div>"
      ],
      "text/plain": [
       "   wheel2Revs   temp_oC  wheel1Pos elapsedTime  pressure_kPa  \\\n",
       "0        -175  16.62738       -832       0.087      100.7898   \n",
       "1        -175  16.66338       -832       1.103      100.7466   \n",
       "2        -175  16.62738       -832       2.113      100.7754   \n",
       "\n",
       "                               imu  wheel2Pos  wheel1Revs  humidity_percent  \n",
       "0  [-72.94969, 74.52534, 116.5186]       -768        -174          74.09607  \n",
       "1   [-72.12151, 74.7004, 117.1975]       -768        -174          74.14125  \n",
       "2  [-73.54123, 74.19148, 115.7025]       -768        -174          74.02431  "
      ]
     },
     "execution_count": 54,
     "metadata": {},
     "output_type": "execute_result"
    }
   ],
   "source": [
    "fname = '/home/rugged/work/data/sprint2_121020/json_test_lines.json'\n",
    "\n",
    "data = []\n",
    "with open(fname) as f:\n",
    "    for line in f:\n",
    "        data.append(json.loads(line))\n",
    "\n",
    "        \n",
    "sbot = pd.DataFrame(data)\n",
    "sbot"
   ]
  },
  {
   "cell_type": "code",
   "execution_count": 57,
   "metadata": {},
   "outputs": [
    {
     "data": {
      "text/html": [
       "<div>\n",
       "<style scoped>\n",
       "    .dataframe tbody tr th:only-of-type {\n",
       "        vertical-align: middle;\n",
       "    }\n",
       "\n",
       "    .dataframe tbody tr th {\n",
       "        vertical-align: top;\n",
       "    }\n",
       "\n",
       "    .dataframe thead th {\n",
       "        text-align: right;\n",
       "    }\n",
       "</style>\n",
       "<table border=\"1\" class=\"dataframe\">\n",
       "  <thead>\n",
       "    <tr style=\"text-align: right;\">\n",
       "      <th></th>\n",
       "      <th>wheel2Revs</th>\n",
       "      <th>temp_oC</th>\n",
       "      <th>wheel1Pos</th>\n",
       "      <th>elapsedTime</th>\n",
       "      <th>pressure_kPa</th>\n",
       "      <th>imu</th>\n",
       "      <th>wheel2Pos</th>\n",
       "      <th>wheel1Revs</th>\n",
       "      <th>humidity_percent</th>\n",
       "    </tr>\n",
       "  </thead>\n",
       "  <tbody>\n",
       "    <tr>\n",
       "      <th>0</th>\n",
       "      <td>-175</td>\n",
       "      <td>16.62738</td>\n",
       "      <td>-832</td>\n",
       "      <td>0.087</td>\n",
       "      <td>100.7898</td>\n",
       "      <td>[-72.94969, 74.52534, 116.5186]</td>\n",
       "      <td>-768</td>\n",
       "      <td>-174</td>\n",
       "      <td>74.09607</td>\n",
       "    </tr>\n",
       "    <tr>\n",
       "      <th>1</th>\n",
       "      <td>-175</td>\n",
       "      <td>16.66338</td>\n",
       "      <td>-832</td>\n",
       "      <td>1.103</td>\n",
       "      <td>100.7466</td>\n",
       "      <td>[-72.12151, 74.7004, 117.1975]</td>\n",
       "      <td>-768</td>\n",
       "      <td>-174</td>\n",
       "      <td>74.14125</td>\n",
       "    </tr>\n",
       "    <tr>\n",
       "      <th>2</th>\n",
       "      <td>-175</td>\n",
       "      <td>16.62738</td>\n",
       "      <td>-832</td>\n",
       "      <td>2.113</td>\n",
       "      <td>100.7754</td>\n",
       "      <td>[-73.54123, 74.19148, 115.7025]</td>\n",
       "      <td>-768</td>\n",
       "      <td>-174</td>\n",
       "      <td>74.02431</td>\n",
       "    </tr>\n",
       "  </tbody>\n",
       "</table>\n",
       "</div>"
      ],
      "text/plain": [
       "   wheel2Revs   temp_oC  wheel1Pos elapsedTime  pressure_kPa  \\\n",
       "0        -175  16.62738       -832       0.087      100.7898   \n",
       "1        -175  16.66338       -832       1.103      100.7466   \n",
       "2        -175  16.62738       -832       2.113      100.7754   \n",
       "\n",
       "                               imu  wheel2Pos  wheel1Revs  humidity_percent  \n",
       "0  [-72.94969, 74.52534, 116.5186]       -768        -174          74.09607  \n",
       "1   [-72.12151, 74.7004, 117.1975]       -768        -174          74.14125  \n",
       "2  [-73.54123, 74.19148, 115.7025]       -768        -174          74.02431  "
      ]
     },
     "execution_count": 57,
     "metadata": {},
     "output_type": "execute_result"
    }
   ],
   "source": [
    "fname = '/home/rugged/work/data/sprint2_121020/json_test_brackets.json'\n",
    "with open(fname) as json_file:\n",
    "    data = json.load(json_file)\n",
    "    \n",
    "sbot = pd.DataFrame(data)\n",
    "sbot"
   ]
  },
  {
   "cell_type": "code",
   "execution_count": 2,
   "metadata": {},
   "outputs": [
    {
     "data": {
      "text/html": [
       "<div>\n",
       "<style scoped>\n",
       "    .dataframe tbody tr th:only-of-type {\n",
       "        vertical-align: middle;\n",
       "    }\n",
       "\n",
       "    .dataframe tbody tr th {\n",
       "        vertical-align: top;\n",
       "    }\n",
       "\n",
       "    .dataframe thead th {\n",
       "        text-align: right;\n",
       "    }\n",
       "</style>\n",
       "<table border=\"1\" class=\"dataframe\">\n",
       "  <thead>\n",
       "    <tr style=\"text-align: right;\">\n",
       "      <th></th>\n",
       "      <th>wheel2Revs</th>\n",
       "      <th>temp_oC</th>\n",
       "      <th>wheel1Pos</th>\n",
       "      <th>elapsedTime</th>\n",
       "      <th>pressure_kPa</th>\n",
       "      <th>imu</th>\n",
       "      <th>wheel2Pos</th>\n",
       "      <th>wheel1Revs</th>\n",
       "      <th>humidity_percent</th>\n",
       "    </tr>\n",
       "  </thead>\n",
       "  <tbody>\n",
       "    <tr>\n",
       "      <th>0</th>\n",
       "      <td>-175</td>\n",
       "      <td>16.62738</td>\n",
       "      <td>-832</td>\n",
       "      <td>0.087</td>\n",
       "      <td>100.7898</td>\n",
       "      <td>[-72.94969, 74.52534, 116.5186]</td>\n",
       "      <td>-768</td>\n",
       "      <td>-174</td>\n",
       "      <td>74.09607</td>\n",
       "    </tr>\n",
       "    <tr>\n",
       "      <th>1</th>\n",
       "      <td>-175</td>\n",
       "      <td>16.66338</td>\n",
       "      <td>-832</td>\n",
       "      <td>1.103</td>\n",
       "      <td>100.7466</td>\n",
       "      <td>[-72.12151, 74.7004, 117.1975]</td>\n",
       "      <td>-768</td>\n",
       "      <td>-174</td>\n",
       "      <td>74.14125</td>\n",
       "    </tr>\n",
       "    <tr>\n",
       "      <th>2</th>\n",
       "      <td>-175</td>\n",
       "      <td>16.62738</td>\n",
       "      <td>-832</td>\n",
       "      <td>2.113</td>\n",
       "      <td>100.7754</td>\n",
       "      <td>[-73.54123, 74.19148, 115.7025]</td>\n",
       "      <td>-768</td>\n",
       "      <td>-174</td>\n",
       "      <td>74.02431</td>\n",
       "    </tr>\n",
       "    <tr>\n",
       "      <th>3</th>\n",
       "      <td>-175</td>\n",
       "      <td>16.66338</td>\n",
       "      <td>-832</td>\n",
       "      <td>3.122</td>\n",
       "      <td>100.7852</td>\n",
       "      <td>[-72.80452, 74.4672, 116.2858]</td>\n",
       "      <td>-768</td>\n",
       "      <td>-174</td>\n",
       "      <td>73.97646</td>\n",
       "    </tr>\n",
       "    <tr>\n",
       "      <th>4</th>\n",
       "      <td>-175</td>\n",
       "      <td>16.66338</td>\n",
       "      <td>-832</td>\n",
       "      <td>4.132</td>\n",
       "      <td>100.7919</td>\n",
       "      <td>[-72.01268, 74.55553, 116.9237]</td>\n",
       "      <td>-768</td>\n",
       "      <td>-174</td>\n",
       "      <td>74.05886</td>\n",
       "    </tr>\n",
       "    <tr>\n",
       "      <th>...</th>\n",
       "      <td>...</td>\n",
       "      <td>...</td>\n",
       "      <td>...</td>\n",
       "      <td>...</td>\n",
       "      <td>...</td>\n",
       "      <td>...</td>\n",
       "      <td>...</td>\n",
       "      <td>...</td>\n",
       "      <td>...</td>\n",
       "    </tr>\n",
       "    <tr>\n",
       "      <th>178</th>\n",
       "      <td>-213</td>\n",
       "      <td>17.67154</td>\n",
       "      <td>-217</td>\n",
       "      <td>181.931</td>\n",
       "      <td>100.7879</td>\n",
       "      <td>[-114.6752, 69.8989, 75.73215]</td>\n",
       "      <td>-354</td>\n",
       "      <td>-214</td>\n",
       "      <td>71.47809</td>\n",
       "    </tr>\n",
       "    <tr>\n",
       "      <th>179</th>\n",
       "      <td>-213</td>\n",
       "      <td>17.65353</td>\n",
       "      <td>-217</td>\n",
       "      <td>182.948</td>\n",
       "      <td>100.7854</td>\n",
       "      <td>[-118.3089, 66.66624, 74.83882]</td>\n",
       "      <td>-458</td>\n",
       "      <td>-214</td>\n",
       "      <td>71.48074</td>\n",
       "    </tr>\n",
       "    <tr>\n",
       "      <th>180</th>\n",
       "      <td>-213</td>\n",
       "      <td>17.67154</td>\n",
       "      <td>-217</td>\n",
       "      <td>183.960</td>\n",
       "      <td>100.7839</td>\n",
       "      <td>[-110.208, 65.33884, 83.64166]</td>\n",
       "      <td>-459</td>\n",
       "      <td>-214</td>\n",
       "      <td>71.40367</td>\n",
       "    </tr>\n",
       "    <tr>\n",
       "      <th>181</th>\n",
       "      <td>-213</td>\n",
       "      <td>17.67154</td>\n",
       "      <td>-217</td>\n",
       "      <td>184.971</td>\n",
       "      <td>100.7214</td>\n",
       "      <td>[-109.644, 65.17921, 84.05967]</td>\n",
       "      <td>-459</td>\n",
       "      <td>-214</td>\n",
       "      <td>71.41962</td>\n",
       "    </tr>\n",
       "    <tr>\n",
       "      <th>182</th>\n",
       "      <td>-213</td>\n",
       "      <td>17.72554</td>\n",
       "      <td>-428</td>\n",
       "      <td>185.983</td>\n",
       "      <td>100.7728</td>\n",
       "      <td>[-110.0477, 65.49466, 83.29621]</td>\n",
       "      <td>-688</td>\n",
       "      <td>-214</td>\n",
       "      <td>71.53922</td>\n",
       "    </tr>\n",
       "  </tbody>\n",
       "</table>\n",
       "<p>183 rows × 9 columns</p>\n",
       "</div>"
      ],
      "text/plain": [
       "     wheel2Revs   temp_oC  wheel1Pos elapsedTime  pressure_kPa  \\\n",
       "0          -175  16.62738       -832       0.087      100.7898   \n",
       "1          -175  16.66338       -832       1.103      100.7466   \n",
       "2          -175  16.62738       -832       2.113      100.7754   \n",
       "3          -175  16.66338       -832       3.122      100.7852   \n",
       "4          -175  16.66338       -832       4.132      100.7919   \n",
       "..          ...       ...        ...         ...           ...   \n",
       "178        -213  17.67154       -217     181.931      100.7879   \n",
       "179        -213  17.65353       -217     182.948      100.7854   \n",
       "180        -213  17.67154       -217     183.960      100.7839   \n",
       "181        -213  17.67154       -217     184.971      100.7214   \n",
       "182        -213  17.72554       -428     185.983      100.7728   \n",
       "\n",
       "                                 imu  wheel2Pos  wheel1Revs  humidity_percent  \n",
       "0    [-72.94969, 74.52534, 116.5186]       -768        -174          74.09607  \n",
       "1     [-72.12151, 74.7004, 117.1975]       -768        -174          74.14125  \n",
       "2    [-73.54123, 74.19148, 115.7025]       -768        -174          74.02431  \n",
       "3     [-72.80452, 74.4672, 116.2858]       -768        -174          73.97646  \n",
       "4    [-72.01268, 74.55553, 116.9237]       -768        -174          74.05886  \n",
       "..                               ...        ...         ...               ...  \n",
       "178   [-114.6752, 69.8989, 75.73215]       -354        -214          71.47809  \n",
       "179  [-118.3089, 66.66624, 74.83882]       -458        -214          71.48074  \n",
       "180   [-110.208, 65.33884, 83.64166]       -459        -214          71.40367  \n",
       "181   [-109.644, 65.17921, 84.05967]       -459        -214          71.41962  \n",
       "182  [-110.0477, 65.49466, 83.29621]       -688        -214          71.53922  \n",
       "\n",
       "[183 rows x 9 columns]"
      ]
     },
     "execution_count": 2,
     "metadata": {},
     "output_type": "execute_result"
    }
   ],
   "source": [
    "fname = '/home/rugged/work/data/sprint2_121020/20201009-183258-sprintbot-data_pipe_loop3_dark.txt'\n",
    "with open(fname, 'r') as infile:\n",
    "    data = infile.read()\n",
    "    new_data = data.replace('}{', '},{')\n",
    "    json_data = json.loads(f'[{new_data}]')\n",
    "    \n",
    "sbot = pd.DataFrame(json_data)\n",
    "sbot"
   ]
  },
  {
   "cell_type": "code",
   "execution_count": 71,
   "metadata": {},
   "outputs": [
    {
     "data": {
      "text/plain": [
       "[<matplotlib.lines.Line2D at 0x7f6f63b5ebe0>]"
      ]
     },
     "execution_count": 71,
     "metadata": {},
     "output_type": "execute_result"
    },
    {
     "data": {
      "image/png": "[encoded data removed]",
      "text/plain": [
       "<Figure size 432x288 with 1 Axes>"
      ]
     },
     "metadata": {
      "needs_background": "light"
     },
     "output_type": "display_data"
    }
   ],
   "source": [
    "from matplotlib import pyplot as plt\n",
    "# plt.plot(sbot.wheel1Revs[170:183])\n",
    "# plt.plot(sbot.wheel2Revs[170:183])\n",
    "\n",
    "plt.plot(wheel1)\n",
    "plt.plot(wheel2)\n",
    "# plt.axis('equal')"
   ]
  },
  {
   "cell_type": "code",
   "execution_count": 139,
   "metadata": {
    "scrolled": true
   },
   "outputs": [
    {
     "data": {
      "image/png": "[encoded data removed]",
      "text/plain": [
       "<Figure size 432x288 with 1 Axes>"
      ]
     },
     "metadata": {
      "needs_background": "light"
     },
     "output_type": "display_data"
    }
   ],
   "source": [
    "# ORIGINAL CODE\n",
    "# compute distance traveled and heading\n",
    "# http://seattlerobotics.org/encoder/200610/Article3/IMU%20Odometry,%20by%20David%20Anderson.htm\n",
    "\n",
    "# note I believe both wheels are encoded the same, so one is going 'backwards' and needs flipping\n",
    "# wheel 2 then wheel 1 orientation seems to give correct rotation directions\n",
    "wheelbase = 0.08 # 80mm in meters. had been set to .45\n",
    "diameter = 0.2\n",
    "\n",
    "# turn revs into distance, based on 200mm diameter wheels\n",
    "wheel1 = (sbot.wheel1Revs-sbot.wheel1Revs[0])/2 * diameter * np.pi\n",
    "wheel2 = (sbot.wheel2Revs-sbot.wheel2Revs[0])/2 * diameter * np.pi\n",
    "\n",
    "distance = ((sbot.wheel2Revs-sbot.wheel2Revs[0])/2 + -(sbot.wheel1Revs-sbot.wheel1Revs[0])/2)/ 2.0\n",
    "theta = ((sbot.wheel2Revs-sbot.wheel2Revs[0])/2 - (sbot.wheel1Revs-sbot.wheel1Revs[0])/2) / 0.45\n",
    "\n",
    "# distance = (wheel2 + -wheel1)/ 2.0\n",
    "# theta = (wheel1 - wheel2)/ wheelbase\n",
    "\n",
    "X_position = distance * np.cos(1.5*theta)\n",
    "Y_position = distance * np.sin(1.5*theta) # was 1.5*theta\n",
    "\n",
    "fig = plt.figure()\n",
    "plt.plot(10*X_position,10*Y_position)\n",
    "# plt.axis('equal')\n",
    "\n",
    "# plot markers\n",
    "endpoint = 158\n",
    "plt.plot(10*X_position[0],10*Y_position[0],marker=\">\")\n",
    "plt.plot(10*X_position[endpoint],10*Y_position[endpoint],marker=\"8\")\n",
    "\n",
    "\n",
    "plt.gca().set_aspect('equal', adjustable='box')\n",
    "plt.gca().set_xlabel('X distance (m)')\n",
    "plt.gca().set_ylabel('Y distance (m)')\n",
    "plt.legend(('Robot path','Start','End'))\n",
    "plt.draw()\n",
    "\n",
    "# plt.plot(Y_position)\n",
    "fig.savefig('encoder_trajectory_scaled_labelled.png', bbox_inches='tight')"
   ]
  },
  {
   "cell_type": "code",
   "execution_count": 138,
   "metadata": {},
   "outputs": [
    {
     "data": {
      "image/png": "[encoded data removed]",
      "text/plain": [
       "<Figure size 432x288 with 1 Axes>"
      ]
     },
     "metadata": {
      "needs_background": "light"
     },
     "output_type": "display_data"
    }
   ],
   "source": [
    "# Updated code to try and get near real world units. Two longer straight bits are 3m lengths\n",
    "\n",
    "\n",
    "wheelbase = 0.08 # 80mm in meters. had been set to .45\n",
    "diameter = 0.2\n",
    "\n",
    "# turn revs into distance, based on 200mm diameter wheels. Flipped to positive\n",
    "wheel1 = -(sbot.wheel1Revs-sbot.wheel1Revs[0])/2 * diameter * np.pi\n",
    "wheel2 = -(sbot.wheel2Revs-sbot.wheel2Revs[0])/2 * diameter * np.pi\n",
    "\n",
    "# forcing one side negative. Seems necessary but not sure why...\n",
    "distance = (wheel1 + wheel2)/ 2.0\n",
    "theta = (wheel1 - wheel2)/ wheelbase\n",
    "\n",
    "scale = 1.25\n",
    "X_position = distance * np.sin(scale*theta)\n",
    "Y_position = distance * np.cos(scale*theta) # was 1.5*theta\n",
    "\n",
    "fig = plt.figure()\n",
    "plt.plot(X_position,Y_position)\n",
    "# plt.axis('equal')\n",
    "\n",
    "plt.gca().set_aspect('equal', adjustable='box')\n",
    "plt.draw()\n",
    "\n",
    "# plt.plot(Y_position)\n",
    "# fig.savefig('encoder_trajectory.png', bbox_inches='tight')"
   ]
  },
  {
   "cell_type": "code",
   "execution_count": 77,
   "metadata": {},
   "outputs": [
    {
     "data": {
      "text/plain": [
       "[<matplotlib.lines.Line2D at 0x7f6f63d48b20>]"
      ]
     },
     "execution_count": 77,
     "metadata": {},
     "output_type": "execute_result"
    },
    {
     "data": {
      "image/png": "[encoded data removed]",
      "text/plain": [
       "<Figure size 432x288 with 1 Axes>"
      ]
     },
     "metadata": {
      "needs_background": "light"
     },
     "output_type": "display_data"
    }
   ],
   "source": [
    "# multiply theta by 180/pi to get heading in degrees\n",
    "plt.plot((180/np.pi)*theta) "
   ]
  },
  {
   "cell_type": "code",
   "execution_count": 97,
   "metadata": {},
   "outputs": [
    {
     "data": {
      "image/png": "[encoded data removed]",
      "text/plain": [
       "<Figure size 432x288 with 1 Axes>"
      ]
     },
     "metadata": {
      "needs_background": "light"
     },
     "output_type": "display_data"
    }
   ],
   "source": [
    "plt.plot(X_position)\n",
    "plt.plot(Y_position)\n",
    "X_position?"
   ]
  },
  {
   "cell_type": "code",
   "execution_count": 12,
   "metadata": {},
   "outputs": [
    {
     "data": {
      "text/plain": [
       "[<matplotlib.lines.Line2D at 0x7fef2ce88250>]"
      ]
     },
     "execution_count": 12,
     "metadata": {},
     "output_type": "execute_result"
    },
    {
     "data": {
      "image/png": "[encoded data removed]",
      "text/plain": [
       "<Figure size 432x288 with 1 Axes>"
      ]
     },
     "metadata": {
      "needs_background": "light"
     },
     "output_type": "display_data"
    }
   ],
   "source": [
    "# IMU\n",
    "IMU = sbot.imu\n",
    "x = [x for x,y,z in IMU]\n",
    "y = [y for x,y,z in IMU]\n",
    "z = [z for x,y,z in IMU]\n",
    "plt.plot(x)\n",
    "plt.plot(y)\n",
    "plt.plot(z)"
   ]
  },
  {
   "cell_type": "code",
   "execution_count": 81,
   "metadata": {},
   "outputs": [
    {
     "data": {
      "text/plain": [
       "array([list([-72.94969, 74.52534, 116.5186]),\n",
       "       list([-72.12151, 74.7004, 117.1975]),\n",
       "       list([-73.54123, 74.19148, 115.7025]),\n",
       "       list([-72.80452, 74.4672, 116.2858]),\n",
       "       list([-72.01268, 74.55553, 116.9237]),\n",
       "       list([-74.32523, 74.60195, 114.5657]),\n",
       "       list([-73.61317, 74.53983, 115.1218]),\n",
       "       list([-72.87214, 74.5678, 115.7095]),\n",
       "       list([-72.15561, 74.54759, 116.2841]),\n",
       "       list([-71.89186, 74.25528, 116.4175]),\n",
       "       list([-73.42074, 74.73595, 114.8073]),\n",
       "       list([-72.98635, 74.52134, 115.1029]),\n",
       "       list([-72.27072, 74.5559, 115.6672]),\n",
       "       list([-71.5598, 74.55787, 116.2251]),\n",
       "       list([-73.88409, 74.33118, 113.8584]),\n",
       "       list([-73.12466, 74.53689, 114.4534]),\n",
       "       list([-72.40476, 74.58638, 115.0214]),\n",
       "       list([-72.6533, 74.15298, 114.6431]),\n",
       "       list([-72.38028, 74.66927, 114.775]),\n",
       "       list([-72.73009, 74.21413, 114.3177]),\n",
       "       list([-73.00503, 75.39504, 114.1623]),\n",
       "       list([-76.25179, 73.80145, 111.0704]),\n",
       "       list([-77.75262, 74.22986, 109.6416]),\n",
       "       list([-76.3373, 73.12464, 111.3438]),\n",
       "       list([-76.29244, 73.33591, 111.3666]),\n",
       "       list([-75.41326, 73.12046, 111.8084]),\n",
       "       list([-76.97374, 73.00161, 109.8139]),\n",
       "       list([-76.92693, 72.72005, 109.1626]),\n",
       "       list([-77.39835, 72.66663, 108.6223]),\n",
       "       list([-77.67381, 72.87325, 108.4381]),\n",
       "       list([-79.34367, 72.3756, 107.1113]),\n",
       "       list([-79.4576, 72.21908, 106.752]),\n",
       "       list([-79.65968, 72.31909, 106.2763]),\n",
       "       list([-80.2008, 71.37843, 105.2346]),\n",
       "       list([-81.20643, 67.27291, 105.1476]),\n",
       "       list([-80.53532, 68.85338, 105.8585]),\n",
       "       list([-77.90804, 69.89976, 109.2183]),\n",
       "       list([-77.58372, 70.5002, 109.2579]),\n",
       "       list([-73.6273, 73.41641, 112.725]),\n",
       "       list([-74.17259, 75.11739, 115.1945]),\n",
       "       list([-76.65391, 74.1934, 112.726]),\n",
       "       list([-78.64812, 73.74285, 110.729]),\n",
       "       list([-80.10234, 73.10927, 109.1524]),\n",
       "       list([-81.58588, 72.65318, 107.5993]),\n",
       "       list([-85.50637, 71.72375, 103.6027]),\n",
       "       list([-84.81951, 71.56879, 104.1995]),\n",
       "       list([-84.13903, 71.72364, 106.3306]),\n",
       "       list([-84.25775, 72.23152, 106.0293]),\n",
       "       list([-83.97062, 72.56927, 106.1587]),\n",
       "       list([-83.59048, 72.84751, 106.4035]),\n",
       "       list([-82.01878, 72.94124, 106.3471]),\n",
       "       list([-80.70638, 73.49331, 107.1967]),\n",
       "       list([-81.14382, 72.33934, 105.9305]),\n",
       "       list([-73.96398, 74.19469, 113.3584]),\n",
       "       list([-69.47936, 73.6517, 117.5375]),\n",
       "       list([-73.66701, 72.98279, 114.6954]),\n",
       "       list([-76.44349, 74.6577, 110.1301]),\n",
       "       list([-76.06914, 74.54109, 110.3746]),\n",
       "       list([-74.06851, 74.23462, 112.189]),\n",
       "       list([-75.61526, 73.87682, 110.6959]),\n",
       "       list([-78.48979, 75.33186, 108.0065]),\n",
       "       list([-78.87688, 76.45486, 107.2298]),\n",
       "       list([-82.28484, 74.79791, 103.7096]),\n",
       "       list([-84.84743, 75.31188, 100.9331]),\n",
       "       list([-85.73161, 73.92652, 100.4521]),\n",
       "       list([-87.99306, 74.36962, 97.77086]),\n",
       "       list([-88.26875, 73.00707, 97.35229]),\n",
       "       list([-90.27496, 73.27908, 94.88209]),\n",
       "       list([-90.72341, 72.0537, 94.04306]),\n",
       "       list([-90.79774, 73.11335, 93.42589]),\n",
       "       list([-89.3476, 72.6367, 94.86098]),\n",
       "       list([-88.73534, 72.96421, 95.65118]),\n",
       "       list([-88.44295, 72.22558, 96.06348]),\n",
       "       list([-87.25288, 72.82285, 96.80219]),\n",
       "       list([-88.21567, 72.12642, 95.36848]),\n",
       "       list([-86.31067, 72.79881, 97.02296]),\n",
       "       list([-86.76257, 70.80449, 96.98708]),\n",
       "       list([-86.39399, 70.73933, 97.49143]),\n",
       "       list([-85.90223, 70.83462, 97.89447]),\n",
       "       list([-86.83192, 71.36288, 96.80656]),\n",
       "       list([-86.00409, 71.72054, 97.3686]),\n",
       "       list([-85.30457, 71.85288, 97.88129]),\n",
       "       list([-84.26678, 73.09056, 98.49261]),\n",
       "       list([-83.08625, 74.94275, 99.56673]),\n",
       "       list([-84.20361, 73.35661, 98.49473]),\n",
       "       list([-84.34472, 72.70799, 98.22995]),\n",
       "       list([-84.45623, 72.13313, 97.98605]),\n",
       "       list([-84.56066, 71.58622, 97.75162]),\n",
       "       list([-84.56181, 71.03024, 97.61155]),\n",
       "       list([-84.49949, 70.48832, 97.54281]),\n",
       "       list([-84.40915, 69.98376, 97.49004]),\n",
       "       list([-84.2499, 69.51005, 97.509]),\n",
       "       list([-84.01643, 69.89666, 100.2723]),\n",
       "       list([-84.1715, 69.86311, 102.3233]),\n",
       "       list([-83.92205, 69.49198, 102.3957]),\n",
       "       list([-84.89434, 69.63258, 99.90856]),\n",
       "       list([-84.58235, 68.75684, 98.93432]),\n",
       "       list([-84.72646, 68.35526, 98.66938]),\n",
       "       list([-84.77862, 67.9507, 98.44941]),\n",
       "       list([-84.73474, 67.48773, 98.33319]),\n",
       "       list([-84.6339, 67.00472, 98.27814]),\n",
       "       list([-84.54636, 66.55947, 98.20952]),\n",
       "       list([-84.46319, 66.13605, 98.13622]),\n",
       "       list([-84.32642, 65.71256, 98.10905]),\n",
       "       list([-84.1696, 65.29709, 98.10361]),\n",
       "       list([-83.97549, 64.89461, 98.12038]),\n",
       "       list([-83.80795, 64.51297, 98.10526]),\n",
       "       list([-83.61098, 64.16063, 97.50659]),\n",
       "       list([-84.70486, 64.41943, 96.39113]),\n",
       "       list([-85.53149, 64.18764, 95.839]),\n",
       "       list([-87.02183, 64.55927, 94.12757]),\n",
       "       list([-87.97232, 65.38349, 94.19024]),\n",
       "       list([-89.95105, 66.05064, 91.72045]),\n",
       "       list([-89.64764, 65.55817, 91.98824]),\n",
       "       list([-89.64753, 64.50239, 91.69717]),\n",
       "       list([-91.89123, 63.47841, 93.90567]),\n",
       "       list([-91.71073, 63.62597, 93.84229]),\n",
       "       list([-92.15071, 64.04307, 93.24683]),\n",
       "       list([-90.89312, 65.07866, 94.9329]),\n",
       "       list([-93.37816, 66.61924, 95.46525]),\n",
       "       list([-94.62187, 65.45037, 93.01027]),\n",
       "       list([-95.66029, 65.30758, 90.67382]),\n",
       "       list([-94.99977, 64.86671, 90.7714]),\n",
       "       list([-95.4557, 64.49065, 90.47067]),\n",
       "       list([-96.64832, 65.3146, 87.29838]),\n",
       "       list([-97.16504, 65.65809, 86.743]),\n",
       "       list([-97.59966, 65.92108, 86.20592]),\n",
       "       list([-98.05297, 66.62573, 85.61089]),\n",
       "       list([-98.02467, 67.17129, 85.41843]),\n",
       "       list([-99.54484, 68.13331, 83.26198]),\n",
       "       list([-99.39182, 68.9497, 83.09022]),\n",
       "       list([-98.66281, 67.09662, 83.79004]),\n",
       "       list([-98.69855, 66.70948, 83.86588]),\n",
       "       list([-99.13837, 68.11047, 83.02316]),\n",
       "       list([-98.27872, 65.98621, 83.28703]),\n",
       "       list([-98.99139, 67.29607, 82.58151]),\n",
       "       list([-98.50327, 66.8633, 83.2182]),\n",
       "       list([-98.38213, 67.7695, 83.30587]),\n",
       "       list([-98.16211, 67.21409, 83.75289]),\n",
       "       list([-98.37992, 67.22856, 83.42082]),\n",
       "       list([-98.32251, 67.94009, 83.07265]),\n",
       "       list([-97.7309, 68.07666, 82.85016]),\n",
       "       list([-97.65341, 68.77522, 82.58134]),\n",
       "       list([-97.89145, 68.39474, 82.36684]),\n",
       "       list([-97.43097, 68.50036, 82.88216]),\n",
       "       list([-96.88739, 68.81619, 83.13321]),\n",
       "       list([-96.03958, 68.75467, 83.60582]),\n",
       "       list([-95.92819, 68.63468, 83.92186]),\n",
       "       list([-95.42682, 69.01087, 84.43631]),\n",
       "       list([-95.11984, 70.71829, 84.58201]),\n",
       "       list([-107.9639, 64.13428, 72.8075]),\n",
       "       list([-106.298, 64.86088, 74.05164]),\n",
       "       list([-107.0271, 65.26198, 73.58282]),\n",
       "       list([-107.5137, 65.78572, 74.25373]),\n",
       "       list([-107.5216, 66.38074, 79.79163]),\n",
       "       list([-106.5575, 66.07704, 80.86683]),\n",
       "       list([-105.7365, 65.07584, 82.45894]),\n",
       "       list([-107.2256, 63.58236, 84.76609]),\n",
       "       list([-108.3891, 66.74096, 85.12276]),\n",
       "       list([-107.0496, 66.65392, 85.03972]),\n",
       "       list([-106.7904, 66.07141, 85.223]),\n",
       "       list([-105.5887, 66.26262, 86.20638]),\n",
       "       list([-105.5857, 66.28848, 85.12079]),\n",
       "       list([-101.4942, 64.30396, 88.93717]),\n",
       "       list([-103.3526, 65.22186, 89.12894]),\n",
       "       list([-100.8894, 64.64717, 91.56333]),\n",
       "       list([-102.0246, 64.87617, 90.41934]),\n",
       "       list([-112.2807, 68.69687, 78.95068]),\n",
       "       list([-111.5573, 68.48273, 79.71014]),\n",
       "       list([-111.3609, 69.2842, 79.50874]),\n",
       "       list([-110.3855, 69.17175, 80.48206]),\n",
       "       list([-111.3733, 70.04616, 79.42722]),\n",
       "       list([-113.8734, 71.07793, 77.3092]),\n",
       "       list([-113.8594, 71.47046, 77.22817]),\n",
       "       list([-108.2982, 73.10942, 82.37669]),\n",
       "       list([-110.7613, 72.02529, 79.69624]),\n",
       "       list([-111.8812, 71.35708, 78.6545]),\n",
       "       list([-113.4406, 70.57965, 77.04578]),\n",
       "       list([-114.6752, 69.8989, 75.73215]),\n",
       "       list([-118.3089, 66.66624, 74.83882]),\n",
       "       list([-110.208, 65.33884, 83.64166]),\n",
       "       list([-109.644, 65.17921, 84.05967]),\n",
       "       list([-110.0477, 65.49466, 83.29621])], dtype=object)"
      ]
     },
     "execution_count": 81,
     "metadata": {},
     "output_type": "execute_result"
    }
   ],
   "source": [
    "IMU.values\n"
   ]
  },
  {
   "cell_type": "code",
   "execution_count": 153,
   "metadata": {},
   "outputs": [
    {
     "data": {
      "text/plain": [
       "0      0.00000\n",
       "1      0.00000\n",
       "2      0.00000\n",
       "3      0.00000\n",
       "4      0.00000\n",
       "        ...   \n",
       "178    0.30316\n",
       "179    0.30316\n",
       "180    0.30316\n",
       "181    0.30316\n",
       "182    0.30316\n",
       "Length: 183, dtype: float64"
      ]
     },
     "execution_count": 153,
     "metadata": {},
     "output_type": "execute_result"
    }
   ],
   "source": [
    "X_position\n"
   ]
  },
  {
   "cell_type": "code",
   "execution_count": 90,
   "metadata": {},
   "outputs": [
    {
     "data": {
      "text/plain": [
       "[<matplotlib.lines.Line2D at 0x7f0cda17bdc0>]"
      ]
     },
     "execution_count": 90,
     "metadata": {},
     "output_type": "execute_result"
    },
    {
     "data": {
      "image/png": "[encoded data removed]",
      "text/plain": [
       "<Figure size 432x288 with 1 Axes>"
      ]
     },
     "metadata": {
      "needs_background": "light"
     },
     "output_type": "display_data"
    }
   ],
   "source": []
  }
 ],
 "metadata": {
  "kernelspec": {
   "display_name": "Python 3",
   "language": "python",
   "name": "python3"
  },
  "language_info": {
   "codemirror_mode": {
    "name": "ipython",
    "version": 3
   },
   "file_extension": ".py",
   "mimetype": "text/x-python",
   "name": "python",
   "nbconvert_exporter": "python",
   "pygments_lexer": "ipython3",
   "version": "3.8.2"
  }
 },
 "nbformat": 4,
 "nbformat_minor": 4
}
